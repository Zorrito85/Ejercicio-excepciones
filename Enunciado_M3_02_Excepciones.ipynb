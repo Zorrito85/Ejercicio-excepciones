{
 "cells": [
  {
   "cell_type": "markdown",
   "metadata": {},
   "source": [
    "# Ejercicios Modulo 3. Errores y Excepciones\n",
    "\n",
    "Consideraciones a tener en cuenta: \n",
    "\n",
    "* Guardar este documento con el siguiente formato para su entrega: __M3_02_nombre_apellido1_apellido2__\n",
    "* Realizar los ejercicios con las herramientas vistas en las sesiones. \n",
    "* Comentar el código\n",
    "* Utilizar nombres de variables apropiados, si vais a guardar una nota, llamar a esa variable nota, no n o x"
   ]
  },
  {
   "cell_type": "markdown",
   "metadata": {},
   "source": [
    "**Identificar los errores en los siguiente bloques de código y evaluarlos con excepciones especificas para evitar errores no controlados en nuestros programas. Añadem mensajes explicativos para el usuario.**\n",
    "<br>_Nota: Se tienen que evaluar excepciones concretas, no hacer referencia a Exception sin más._"
   ]
  },
  {
   "cell_type": "markdown",
   "metadata": {},
   "source": [
    "**1) Código a evaluar:**"
   ]
  },
  {
   "cell_type": "code",
   "execution_count": 4,
   "metadata": {},
   "outputs": [
    {
     "name": "stdout",
     "output_type": "stream",
     "text": [
      "Error Zero no es puede ser divisor\n"
     ]
    }
   ],
   "source": [
    "try:\n",
    "    n=7\n",
    "    m=0\n",
    "    print('{}/{}={}'.format(n,m,n/m))\n",
    "except ZeroDivisionError:\n",
    "    print('Error Zero no es puede ser divisor')\n"
   ]
  },
  {
   "cell_type": "markdown",
   "metadata": {},
   "source": [
    "**2) Código a evaluar:**"
   ]
  },
  {
   "cell_type": "code",
   "execution_count": 6,
   "metadata": {},
   "outputs": [
    {
     "name": "stdout",
     "output_type": "stream",
     "text": [
      "No esta el indice en la lista\n"
     ]
    }
   ],
   "source": [
    "try:\n",
    "    lista = [4, 7, 30, 23, 5]\n",
    "    lista[10]\n",
    "    print(lista[10])\n",
    "except IndexError:\n",
    "    print('No esta el indice en la lista')\n"
   ]
  },
  {
   "cell_type": "markdown",
   "metadata": {},
   "source": [
    "**3) Código a evaluar:**"
   ]
  },
  {
   "cell_type": "code",
   "execution_count": null,
   "metadata": {},
   "outputs": [],
   "source": [
    "try:\n",
    "    paises = { \"españa\":\"español\", \"eeuu\":\"inglés\", \"italia\":\"italiano\" } \n",
    "    print(paises[\"alemania\"] )\n",
    "except KeyError:\n",
    "    print('La clave no se encuentra en el diccionario')\n"
   ]
  },
  {
   "cell_type": "markdown",
   "metadata": {},
   "source": [
    "**4) Localiza el error en el siguiente bloque de código.  Crea una excepción para evitar que el programa se bloquee y además explica en un mensaje al usuario la causa y/o solución:**"
   ]
  },
  {
   "cell_type": "code",
   "execution_count": 7,
   "metadata": {},
   "outputs": [
    {
     "name": "stdout",
     "output_type": "stream",
     "text": [
      "No se puede sumar ya que uno de los valores es un str y no un int o float\n"
     ]
    }
   ],
   "source": [
    "try:\n",
    "    resultado = \"2\" + 10\n",
    "    print(resultado)\n",
    "except TypeError:\n",
    "    print('No se puede sumar ya que uno de los valores es un str y no un int o float')"
   ]
  }
 ],
 "metadata": {
  "anaconda-cloud": {},
  "kernelspec": {
   "display_name": "base",
   "language": "python",
   "name": "python3"
  },
  "language_info": {
   "codemirror_mode": {
    "name": "ipython",
    "version": 3
   },
   "file_extension": ".py",
   "mimetype": "text/x-python",
   "name": "python",
   "nbconvert_exporter": "python",
   "pygments_lexer": "ipython3",
   "version": "3.13.5"
  }
 },
 "nbformat": 4,
 "nbformat_minor": 1
}
